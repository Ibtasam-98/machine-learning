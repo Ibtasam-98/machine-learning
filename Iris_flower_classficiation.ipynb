{
  "nbformat": 4,
  "nbformat_minor": 0,
  "metadata": {
    "colab": {
      "provenance": [],
      "toc_visible": true,
      "authorship_tag": "ABX9TyOEHOIxb1Bu8iIgPQhWzy3Z",
      "include_colab_link": true
    },
    "kernelspec": {
      "name": "python3",
      "display_name": "Python 3"
    },
    "language_info": {
      "name": "python"
    }
  },
  "cells": [
    {
      "cell_type": "markdown",
      "metadata": {
        "id": "view-in-github",
        "colab_type": "text"
      },
      "source": [
        "<a href=\"https://colab.research.google.com/github/Ibtasam-98/machine-learning/blob/main/Iris_flower_classficiation.ipynb\" target=\"_parent\"><img src=\"https://colab.research.google.com/assets/colab-badge.svg\" alt=\"Open In Colab\"/></a>"
      ]
    },
    {
      "cell_type": "markdown",
      "source": [
        "# Load Libraries\n"
      ],
      "metadata": {
        "id": "BjoN8mZt_1qH"
      }
    },
    {
      "cell_type": "code",
      "execution_count": 8,
      "metadata": {
        "colab": {
          "base_uri": "https://localhost:8080/"
        },
        "id": "SpOs4qqt-p16",
        "outputId": "1e968587-dc95-4195-8232-c6b601db868a"
      },
      "outputs": [
        {
          "output_type": "stream",
          "name": "stdout",
          "text": [
            "libraries Imported Succesfully!\n"
          ]
        }
      ],
      "source": [
        "import numpy as np\n",
        "import matplotlib.pyplot as plt\n",
        "import pandas as pd\n",
        "from sklearn.datasets import load_iris\n",
        "from sklearn.model_selection import train_test_split\n",
        "from sklearn.neighbors import KNeighborsClassifier\n",
        "from sklearn.metrics import accuracy_score, classification_report, confusion_matrix\n",
        "\n",
        "print(\"libraries Imported Succesfully!\")\n"
      ]
    },
    {
      "cell_type": "markdown",
      "source": [
        "#Load Iris Dataset"
      ],
      "metadata": {
        "id": "9We0TReN_6Tx"
      }
    },
    {
      "cell_type": "code",
      "source": [
        "iris = load_iris()\n",
        "\n",
        "X = iris.data # Features (sepal length, sepal width, petal length, petal width)\n",
        "y = iris.target  # Target (species: 0-setosa, 1-versicolor, 2-virginica)\n",
        "\n",
        "feature_names = iris.feature_names\n",
        "target_names = iris.target_names\n",
        "\n",
        "\n",
        "print(\"\\nIris dataset loaded.\")\n",
        "print(\"Features (X Shape)\", X.shape)\n",
        "print(\"Target (y Shape)\", y.shape)\n",
        "print(f\"Feature names: {feature_names}\")\n",
        "print(f\"Target names: {target_names}\")\n"
      ],
      "metadata": {
        "colab": {
          "base_uri": "https://localhost:8080/"
        },
        "id": "px3bU1u7_L3o",
        "outputId": "0c244548-86be-47e3-e57c-26ddaabe32b5"
      },
      "execution_count": 37,
      "outputs": [
        {
          "output_type": "stream",
          "name": "stdout",
          "text": [
            "\n",
            "Iris dataset loaded.\n",
            "Features (X Shape) (150, 4)\n",
            "Target (y Shape) (150,)\n",
            "Feature names: ['sepal length (cm)', 'sepal width (cm)', 'petal length (cm)', 'petal width (cm)']\n",
            "Target names: ['setosa' 'versicolor' 'virginica']\n"
          ]
        }
      ]
    },
    {
      "cell_type": "markdown",
      "source": [
        "# Dataframe"
      ],
      "metadata": {
        "id": "OutenMju_41h"
      }
    },
    {
      "cell_type": "code",
      "source": [
        "df = pd.DataFrame(X,columns=feature_names)\n",
        "print(df)\n",
        "\n",
        "df['species'] = y\n",
        "print(y)\n",
        "\n",
        "df['species_name'] = df['species'].map({0: target_names[0], 1: target_names[1], 2: target_names[2]})\n",
        "\n",
        "print(\"\\nFirst 5 rows of the DataFrame:\")\n",
        "print(df.head())\n",
        "\n",
        "print(\"\\nDescription of the dataset:\")\n",
        "print(df.describe())\n",
        "\n",
        "print(\"\\nSpecies distribution:\")\n",
        "print(df['species_name'].value_counts())\n"
      ],
      "metadata": {
        "colab": {
          "base_uri": "https://localhost:8080/"
        },
        "id": "CDHEO-5xAQqi",
        "outputId": "18caa458-a4e0-484a-e032-ccd9ca6d9fab"
      },
      "execution_count": 46,
      "outputs": [
        {
          "output_type": "stream",
          "name": "stdout",
          "text": [
            "     sepal length (cm)  sepal width (cm)  petal length (cm)  petal width (cm)\n",
            "0                  5.1               3.5                1.4               0.2\n",
            "1                  4.9               3.0                1.4               0.2\n",
            "2                  4.7               3.2                1.3               0.2\n",
            "3                  4.6               3.1                1.5               0.2\n",
            "4                  5.0               3.6                1.4               0.2\n",
            "..                 ...               ...                ...               ...\n",
            "145                6.7               3.0                5.2               2.3\n",
            "146                6.3               2.5                5.0               1.9\n",
            "147                6.5               3.0                5.2               2.0\n",
            "148                6.2               3.4                5.4               2.3\n",
            "149                5.9               3.0                5.1               1.8\n",
            "\n",
            "[150 rows x 4 columns]\n",
            "[0 0 0 0 0 0 0 0 0 0 0 0 0 0 0 0 0 0 0 0 0 0 0 0 0 0 0 0 0 0 0 0 0 0 0 0 0\n",
            " 0 0 0 0 0 0 0 0 0 0 0 0 0 1 1 1 1 1 1 1 1 1 1 1 1 1 1 1 1 1 1 1 1 1 1 1 1\n",
            " 1 1 1 1 1 1 1 1 1 1 1 1 1 1 1 1 1 1 1 1 1 1 1 1 1 1 2 2 2 2 2 2 2 2 2 2 2\n",
            " 2 2 2 2 2 2 2 2 2 2 2 2 2 2 2 2 2 2 2 2 2 2 2 2 2 2 2 2 2 2 2 2 2 2 2 2 2\n",
            " 2 2]\n",
            "\n",
            "First 5 rows of the DataFrame:\n",
            "   sepal length (cm)  sepal width (cm)  ...  species  species_name\n",
            "0                5.1               3.5  ...        0        setosa\n",
            "1                4.9               3.0  ...        0        setosa\n",
            "2                4.7               3.2  ...        0        setosa\n",
            "3                4.6               3.1  ...        0        setosa\n",
            "4                5.0               3.6  ...        0        setosa\n",
            "\n",
            "[5 rows x 6 columns]\n",
            "\n",
            "Description of the dataset:\n",
            "       sepal length (cm)  sepal width (cm)  ...  petal width (cm)     species\n",
            "count         150.000000        150.000000  ...        150.000000  150.000000\n",
            "mean            5.843333          3.057333  ...          1.199333    1.000000\n",
            "std             0.828066          0.435866  ...          0.762238    0.819232\n",
            "min             4.300000          2.000000  ...          0.100000    0.000000\n",
            "25%             5.100000          2.800000  ...          0.300000    0.000000\n",
            "50%             5.800000          3.000000  ...          1.300000    1.000000\n",
            "75%             6.400000          3.300000  ...          1.800000    2.000000\n",
            "max             7.900000          4.400000  ...          2.500000    2.000000\n",
            "\n",
            "[8 rows x 5 columns]\n",
            "\n",
            "Species distribution:\n",
            "species_name\n",
            "setosa        50\n",
            "versicolor    50\n",
            "virginica     50\n",
            "Name: count, dtype: int64\n"
          ]
        }
      ]
    }
  ]
}