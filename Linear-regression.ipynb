{
  "nbformat": 4,
  "nbformat_minor": 0,
  "metadata": {
    "colab": {
      "provenance": [],
      "toc_visible": true,
      "authorship_tag": "ABX9TyPRki6dhpJMdnfdWswo1egm",
      "include_colab_link": true
    },
    "kernelspec": {
      "name": "python3",
      "display_name": "Python 3"
    },
    "language_info": {
      "name": "python"
    }
  },
  "cells": [
    {
      "cell_type": "markdown",
      "metadata": {
        "id": "view-in-github",
        "colab_type": "text"
      },
      "source": [
        "<a href=\"https://colab.research.google.com/github/Ibtasam-98/machine-learning-algorithms/blob/main/LinearRegression.ipynb\" target=\"_parent\"><img src=\"https://colab.research.google.com/assets/colab-badge.svg\" alt=\"Open In Colab\"/></a>"
      ]
    },
    {
      "cell_type": "markdown",
      "source": [
        "# Introduction to Linear Regression\n"
      ],
      "metadata": {
        "id": "V0zdBSi3FFsJ"
      }
    },
    {
      "cell_type": "markdown",
      "source": [
        "# Setup and Data Generation\n",
        " Import the necessary libraries and create our dataset"
      ],
      "metadata": {
        "id": "Y1avIV4AFLOl"
      }
    },
    {
      "cell_type": "code",
      "source": [
        "import numpy as np\n",
        "import matplotlib.pyplot as plt\n",
        "from sklearn.datasets import make_regression\n",
        "from sklearn.model_selection import train_test_split\n",
        "from sklearn.linear_model import LinearRegression\n",
        "from sklearn.metrics import mean_absolute_error, mean_squared_error, r2_score\n",
        "\n",
        "print(\"Libraries imported successfully!\")\n",
        "\n",
        "X, y = make_regression(n_samples=100, n_features=1, noise=20, random_state=42)\n",
        "\n",
        "print(f\"Shape of X (features): {X.shape}\")\n",
        "print(f\"Shape of y (target): {y.shape}\")\n",
        "print(\"\\nFirst 5 rows of X:\\n\", X[:5])\n",
        "print(\"\\nFirst 5 rows of y:\\n\", y[:5])"
      ],
      "metadata": {
        "colab": {
          "base_uri": "https://localhost:8080/"
        },
        "id": "2_edCBknFTcH",
        "outputId": "bdcdd8d3-2ed7-4b48-a7e2-2ec29f6e9769"
      },
      "execution_count": null,
      "outputs": [
        {
          "output_type": "stream",
          "name": "stdout",
          "text": [
            "Libraries imported successfully!\n",
            "Shape of X (features): (100, 1)\n",
            "Shape of y (target): (100,)\n",
            "\n",
            "First 5 rows of X:\n",
            " [[ 0.93128012]\n",
            " [ 0.08704707]\n",
            " [-1.05771093]\n",
            " [ 0.31424733]\n",
            " [-0.47917424]]\n",
            "\n",
            "First 5 rows of y:\n",
            " [ 62.687202   -23.76398073 -25.68676582   7.93645654 -15.47549454]\n"
          ]
        }
      ]
    },
    {
      "cell_type": "markdown",
      "source": [
        "# Visualize Data"
      ],
      "metadata": {
        "id": "9O3ED4hhF7Ez"
      }
    },
    {
      "cell_type": "code",
      "source": [
        "plt.scatter(X,y)\n",
        "plt.title(\"Synthetic Data - Linear Regression\")\n",
        "plt.xlabel(\"Feature (X)\")\n",
        "plt.ylabel(\"Target (Y)\")\n",
        "plt.grid(True)\n",
        "plt.show()"
      ],
      "metadata": {
        "colab": {
          "base_uri": "https://localhost:8080/",
          "height": 472
        },
        "id": "AoWRFplSF9sh",
        "outputId": "c0c2153d-718b-4084-c308-f71ac8dcc6de"
      },
      "execution_count": null,
      "outputs": [
        {
          "output_type": "display_data",
          "data": {
            "text/plain": [
              "<Figure size 640x480 with 1 Axes>"
            ],
            "image/png": "[encoded data removed]"
          },
          "metadata": {}
        }
      ]
    },
    {
      "cell_type": "markdown",
      "source": [
        "#  Splitting Data into Training and Testing Sets"
      ],
      "metadata": {
        "id": "4EhBP80HGYeV"
      }
    },
    {
      "cell_type": "code",
      "source": [
        "X_train, X_test, y_train, y_test = train_test_split(X,y,test_size=0.2, random_state=42)\n",
        "data_to_print=[\n",
        "    \"X_train\", X_train,\n",
        "    \"X_test\" , X_test,\n",
        "    \"y_train\" , y_train,\n",
        "    \"y_test\" , y_test,\n",
        "]\n",
        "\n",
        "for i in range(0, len(data_to_print), 2):\n",
        "    name = data_to_print[i]\n",
        "    data = data_to_print[i+1]\n",
        "\n",
        "    print(f\"--- {name} ---\")\n",
        "    print(data)\n",
        "    print(\"\\n\")\n"
      ],
      "metadata": {
        "colab": {
          "base_uri": "https://localhost:8080/"
        },
        "id": "KEz92v13GcMX",
        "outputId": "37a37980-0b58-4c06-9683-359e978f30ae"
      },
      "execution_count": null,
      "outputs": [
        {
          "output_type": "stream",
          "name": "stdout",
          "text": [
            "--- X_train ---\n",
            "[[ 0.34361829]\n",
            " [-1.01283112]\n",
            " [-0.60063869]\n",
            " [ 1.52302986]\n",
            " [ 0.76743473]\n",
            " [ 0.09176078]\n",
            " [ 0.36139561]\n",
            " [-1.42474819]\n",
            " [ 1.0035329 ]\n",
            " [-1.47852199]\n",
            " [ 1.53803657]\n",
            " [-0.64511975]\n",
            " [-0.11564828]\n",
            " [-0.60170661]\n",
            " [-0.50175704]\n",
            " [ 0.64768854]\n",
            " [-1.72491783]\n",
            " [ 0.96864499]\n",
            " [ 0.19686124]\n",
            " [-1.95967012]\n",
            " [ 0.2088636 ]\n",
            " [-0.90802408]\n",
            " [ 0.54256004]\n",
            " [ 1.85227818]\n",
            " [-0.03582604]\n",
            " [-2.6197451 ]\n",
            " [ 0.11092259]\n",
            " [ 1.46564877]\n",
            " [-1.10633497]\n",
            " [-0.21967189]\n",
            " [ 1.56464366]\n",
            " [ 0.31424733]\n",
            " [ 0.51326743]\n",
            " [ 0.82254491]\n",
            " [ 0.61167629]\n",
            " [ 0.29612028]\n",
            " [-0.46341769]\n",
            " [-1.46351495]\n",
            " [-0.29900735]\n",
            " [-0.1382643 ]\n",
            " [ 0.33126343]\n",
            " [-0.30921238]\n",
            " [-0.38508228]\n",
            " [-0.51827022]\n",
            " [-0.32766215]\n",
            " [-1.91328024]\n",
            " [-0.3011037 ]\n",
            " [-0.56228753]\n",
            " [-0.2257763 ]\n",
            " [-0.71984421]\n",
            " [-0.54438272]\n",
            " [-0.676922  ]\n",
            " [-0.23458713]\n",
            " [ 0.32875111]\n",
            " [-0.07201012]\n",
            " [-0.18565898]\n",
            " [ 1.57921282]\n",
            " [ 0.26105527]\n",
            " [-0.46063877]\n",
            " [-1.98756891]\n",
            " [-0.70205309]\n",
            " [ 1.05712223]\n",
            " [ 0.36163603]\n",
            " [-1.19620662]\n",
            " [ 0.08704707]\n",
            " [-0.23413696]\n",
            " [ 0.09707755]\n",
            " [-1.05771093]\n",
            " [ 0.91540212]\n",
            " [-0.01349722]\n",
            " [ 1.35624003]\n",
            " [-0.83921752]\n",
            " [-0.46947439]\n",
            " [ 0.17136828]\n",
            " [ 0.49671415]\n",
            " [ 0.32408397]\n",
            " [-1.4123037 ]\n",
            " [-0.8084936 ]\n",
            " [ 0.0675282 ]\n",
            " [ 0.00511346]]\n",
            "\n",
            "\n",
            "--- X_test ---\n",
            "[[-1.32818605]\n",
            " [ 1.47789404]\n",
            " [ 0.81252582]\n",
            " [-0.39210815]\n",
            " [-0.23415337]\n",
            " [-0.29169375]\n",
            " [-0.46572975]\n",
            " [-1.76304016]\n",
            " [ 0.8219025 ]\n",
            " [ 0.93128012]\n",
            " [ 1.03099952]\n",
            " [ 0.35711257]\n",
            " [-1.22084365]\n",
            " [-0.5297602 ]\n",
            " [-1.15099358]\n",
            " [-0.47917424]\n",
            " [ 0.97554513]\n",
            " [ 0.24196227]\n",
            " [ 0.73846658]\n",
            " [ 0.37569802]]\n",
            "\n",
            "\n",
            "--- y_train ---\n",
            "[ 3.52202177e+01 -3.27216034e+01  3.03278631e+00  6.02517239e+01\n",
            "  6.01127448e+01  2.14036667e+01  3.04845974e+01 -8.24664085e+01\n",
            "  2.27986221e+01 -6.94804227e+01  8.95671291e+01 -4.95365695e+01\n",
            "  7.58367776e+00 -4.27287124e+01 -2.16344842e+01  3.60939588e+01\n",
            " -8.51836143e+01  5.52391241e+01 -1.62402661e+01 -8.91095732e+01\n",
            "  8.90108319e+00 -4.93961082e+01 -1.08230392e+01  7.88540285e+01\n",
            "  6.99430659e+00 -1.26703865e+02  2.00928481e+01  6.79742116e+01\n",
            " -4.26829789e+01  1.50182931e+01  8.41206595e+01  7.93645654e+00\n",
            "  1.86789111e+01  6.84660288e+01  2.14147070e+01 -6.16054619e+00\n",
            " -4.07942011e+01 -6.79315585e+01 -2.79165108e+01 -1.15540412e+01\n",
            "  2.61801170e+01 -3.02497879e+01  3.47094962e+01 -1.97578606e+01\n",
            "  1.86401737e+00 -8.85146082e+01 -1.57871471e+01 -2.33917541e+01\n",
            " -9.57175421e+00 -4.77573368e+01 -3.82298560e+01 -3.47452883e+01\n",
            " -7.94234764e+00  3.32660331e+01  1.16842396e+01  9.19841868e+00\n",
            "  4.70569444e+01  6.37427951e-01 -2.63624697e+01 -8.77552036e+01\n",
            " -3.83537133e+01  5.52478809e+01  7.14971057e-02 -7.42680785e+01\n",
            " -2.37639807e+01 -5.02194329e+01  1.56947595e+00 -2.56867658e+01\n",
            "  1.89495791e+01 -1.04320387e+01  8.31130643e+01 -9.04192654e+00\n",
            " -1.99673935e+01 -1.11407180e+01  1.28230663e+01  4.08053520e+01\n",
            " -6.73810749e+01 -6.18755179e+01  1.81646383e+01  1.44156261e+01]\n",
            "\n",
            "\n",
            "--- y_test ---\n",
            "[-42.45821245 116.37736676  54.90266971   4.54439761  -5.4750429\n",
            "  15.670897   -39.29179595 -63.06227276  37.22435193  62.687202\n",
            "  14.23422554  25.66547175 -33.48756895 -21.27317252 -64.08029524\n",
            " -15.47549454  65.06174295  12.1467251   41.55112824  43.36236305]\n",
            "\n",
            "\n"
          ]
        }
      ]
    },
    {
      "cell_type": "markdown",
      "source": [
        "# Train the model"
      ],
      "metadata": {
        "id": "BLjLOkYbH_4O"
      }
    },
    {
      "cell_type": "code",
      "source": [
        "# Create a Linear Regression model object\n",
        "model = LinearRegression()\n",
        "\n",
        "# Train the model using the training data\n",
        "# The .fit() method learns the coefficients (slope) and intercept of the linear equation\n",
        "model.fit(X_train, y_train)\n",
        "\n",
        "print(\"Model training complete!\")\n",
        "\n",
        "print(f\"Coefficient (slope): {model.coef_[0]:.2f}\")\n",
        "\n",
        "# The intercept is the value of 'y' when 'X' is 0\n",
        "print(f\"Intercept: {model.intercept_:.2f}\")"
      ],
      "metadata": {
        "colab": {
          "base_uri": "https://localhost:8080/"
        },
        "id": "rEGygDjBICEB",
        "outputId": "c75108b0-5fbc-4828-b587-b6cde47131ee"
      },
      "execution_count": null,
      "outputs": [
        {
          "output_type": "stream",
          "name": "stdout",
          "text": [
            "Model training complete!\n",
            "Coefficient (slope): 46.75\n",
            "Intercept: 0.20\n"
          ]
        }
      ]
    },
    {
      "cell_type": "markdown",
      "source": [
        "# Pediction of Model"
      ],
      "metadata": {
        "id": "hSemZpyTIWTY"
      }
    },
    {
      "cell_type": "code",
      "source": [
        "y_pred = model.predict(X_test)\n",
        "print(y_pred)\n",
        "\n",
        "print(\"Predictions on test data generated.\")\n",
        "print(\"First 5 actual test values:\", y_test[:5])\n",
        "print(\"First 5 predicted values:\", y_pred[:5])"
      ],
      "metadata": {
        "colab": {
          "base_uri": "https://localhost:8080/"
        },
        "id": "kO4yUBW_Ii4U",
        "outputId": "43c3aff5-df3d-410f-a572-ca1b7e2863a3"
      },
      "execution_count": null,
      "outputs": [
        {
          "output_type": "stream",
          "name": "stdout",
          "text": [
            "[-61.89061944  69.2859475   38.18180355 -18.13153892 -10.7475852\n",
            " -13.4374403  -21.57314731 -82.21885915  38.62013778  43.73324201\n",
            "  48.39485129  16.89248009 -56.87265598 -24.56639567 -53.60735619\n",
            " -22.20164017  45.80251003  11.50951861  34.7197366   17.76129888]\n",
            "Predictions on test data generated.\n",
            "First 5 actual test values: [-42.45821245 116.37736676  54.90266971   4.54439761  -5.4750429 ]\n",
            "First 5 predicted values: [-61.89061944  69.2859475   38.18180355 -18.13153892 -10.7475852 ]\n"
          ]
        }
      ]
    },
    {
      "cell_type": "markdown",
      "source": [
        "# Model preformance"
      ],
      "metadata": {
        "id": "jH2UZBx5Iu_S"
      }
    },
    {
      "cell_type": "code",
      "source": [
        "# Mean Absolute Error (MAE): Average of the absolute differences between predictions and actual values.\n",
        "\n",
        "mea = mean_squared_error(y_test, y_pred)\n",
        "print(f\"Mean Absolute Error: {mea:.2f}\")\n",
        "\n",
        "\n",
        "# Mean Squared Error (MSE): Average of the squared differences.\n",
        "mse = mean_squared_error(y_test, y_pred)\n",
        "print(f\"Mean Square Error: {mse:.2f}\")\n",
        "# Root Mean Squared Error (RMSE): Square root of MSE.\n",
        "rmse = np.sqrt(mse)\n",
        "print(f\"Root Means Square Error: {rmse:.2f}\")\n",
        "\n",
        "# R-squared (Coefficient of Determination): Represents the proportion of the variance in the dependent\n",
        "# 1 means perfect prediction, 0 means no better than predicting the mean.\n",
        "r2 = r2_score(y_test, y_pred)\n",
        "print(f\"R2:  {r2:.2f}\")\n",
        "\n"
      ],
      "metadata": {
        "colab": {
          "base_uri": "https://localhost:8080/"
        },
        "id": "EJCtSVfVIxaf",
        "outputId": "6dbbe1de-4a54-49a1-bf14-6ecb3ded7221"
      },
      "execution_count": null,
      "outputs": [
        {
          "output_type": "stream",
          "name": "stdout",
          "text": [
            "Mean Absolute Error: 416.81\n",
            "Mean Square Error: 416.81\n",
            "Root Means Square Error: 20.42\n",
            "R2:  0.80\n"
          ]
        }
      ]
    },
    {
      "cell_type": "markdown",
      "source": [
        "# Visualize Prediction"
      ],
      "metadata": {
        "id": "i5B8V2ljKBLW"
      }
    },
    {
      "cell_type": "code",
      "source": [
        "# Plot the training data\n",
        "plt.scatter(X_train, y_train, color='blue', alpha=0.6, label='Training Data')\n",
        "\n",
        "# Plot the test data\n",
        "plt.scatter(X_test, y_test, color='green', alpha=0.8, label='Test Data (Actual)')\n",
        "\n",
        "# Plot the regression line based on the model's coefficients and intercept\n",
        "plt.plot(X_test, y_pred, color='red', linewidth=3, label='Regression Line (Predicted)')\n",
        "\n",
        "plt.title('Linear Regression: Actual vs. Predicted Values')\n",
        "plt.xlabel('Feature (X)')\n",
        "plt.ylabel('Target (y)')\n",
        "plt.legend()\n",
        "plt.grid(True)\n",
        "plt.show()"
      ],
      "metadata": {
        "colab": {
          "base_uri": "https://localhost:8080/",
          "height": 472
        },
        "id": "NteqMh_5KDnW",
        "outputId": "7b850ecb-18ab-4c53-ed73-ceaa947b3fe8"
      },
      "execution_count": null,
      "outputs": [
        {
          "output_type": "display_data",
          "data": {
            "text/plain": [
              "<Figure size 640x480 with 1 Axes>"
            ],
            "image/png": "[encoded data removed]"
          },
          "metadata": {}
        }
      ]
    }
  ]
}
